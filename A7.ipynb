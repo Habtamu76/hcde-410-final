{
 "cells": [
  {
   "cell_type": "markdown",
   "id": "86e4fb1c-eed5-4894-b902-5eecc520fc44",
   "metadata": {},
   "source": [
    "# Introduction\n"
   ]
  },
  {
   "cell_type": "code",
   "execution_count": null,
   "id": "fd034666-a0bc-49f7-a2e6-ea9baeaf4619",
   "metadata": {},
   "outputs": [],
   "source": [
    "    \n",
    "    "
   ]
  },
  {
   "cell_type": "markdown",
   "id": "e5a210c1-21ca-401d-a7aa-c0898875dd69",
   "metadata": {},
   "source": [
    "# Background or Related Work"
   ]
  },
  {
   "cell_type": "code",
   "execution_count": null,
   "id": "054a6874-eb9c-4c05-9d14-a22dec408bc4",
   "metadata": {},
   "outputs": [],
   "source": []
  },
  {
   "cell_type": "markdown",
   "id": "3328ec77-da76-4b30-9529-bbf1847837f5",
   "metadata": {},
   "source": [
    "# Research questions or hypotheses"
   ]
  },
  {
   "cell_type": "code",
   "execution_count": null,
   "id": "38f18e22-091d-486a-a66f-af37d4a010d4",
   "metadata": {},
   "outputs": [],
   "source": []
  },
  {
   "cell_type": "markdown",
   "id": "c9332e4f-c356-4161-abde-e61facf61d15",
   "metadata": {},
   "source": [
    "# Methodology"
   ]
  },
  {
   "cell_type": "code",
   "execution_count": null,
   "id": "857b4473-10e3-4db1-9788-aef97296e40c",
   "metadata": {},
   "outputs": [],
   "source": []
  },
  {
   "cell_type": "markdown",
   "id": "554faab6-ad6b-4df2-8576-1c0b6a8dc256",
   "metadata": {},
   "source": [
    "# Findings"
   ]
  },
  {
   "cell_type": "code",
   "execution_count": null,
   "id": "a125b8c0-c4f7-410c-b770-d35d61d04a1f",
   "metadata": {},
   "outputs": [],
   "source": []
  },
  {
   "cell_type": "markdown",
   "id": "98e28984-d3be-44cf-be93-012755a7339f",
   "metadata": {},
   "source": [
    "# Discussion (including Limitations and Implications)"
   ]
  },
  {
   "cell_type": "code",
   "execution_count": null,
   "id": "2ae48321-2ce0-4c4b-ab0b-ee68a63d3413",
   "metadata": {},
   "outputs": [],
   "source": []
  },
  {
   "cell_type": "markdown",
   "id": "6efa4aa6-9593-4288-a7d8-831071c1b0c3",
   "metadata": {},
   "source": [
    "# Conclusion"
   ]
  },
  {
   "cell_type": "code",
   "execution_count": null,
   "id": "6ff0d26c-81f2-4807-9568-196cb98c06a8",
   "metadata": {},
   "outputs": [],
   "source": []
  }
 ],
 "metadata": {
  "kernelspec": {
   "display_name": "Python 3",
   "language": "python",
   "name": "python3"
  },
  "language_info": {
   "codemirror_mode": {
    "name": "ipython",
    "version": 3
   },
   "file_extension": ".py",
   "mimetype": "text/x-python",
   "name": "python",
   "nbconvert_exporter": "python",
   "pygments_lexer": "ipython3",
   "version": "3.8.8"
  }
 },
 "nbformat": 4,
 "nbformat_minor": 5
}
