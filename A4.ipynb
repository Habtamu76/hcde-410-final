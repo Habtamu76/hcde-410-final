{
 "cells": [
  {
   "cell_type": "markdown",
   "id": "6eb10430-c214-4f57-a1fc-a65f0133fbe3",
   "metadata": {},
   "source": [
    "## Motivation and problem statement: \n"
   ]
  },
  {
   "cell_type": "markdown",
   "id": "861f2ed3-2f9c-4c15-be3f-df197693bb09",
   "metadata": {},
   "source": [
    "I was surprised by what I learned about the power of AI surveillance watching the video “Coded Bias”. Watching the video “Coded Bias” made me realize a lot about the positive and negative parts of AI. \n",
    "\n",
    "Often times, AI is perceived negatively because of the way it is portrayed in movies. The more people become aware of social media platforms that use AI to collect personal data from the user for targeted Ads and learn user habits, they begin to fear AI because they dislike the invasion of privacy. The future is AI and not everyone is on board with it. We encounter the use of AI daily in our lives, but only a few pay attention to it. For example, our music playlist is a collection of songs we frequent, traffic lights we pass, our phone that provides text auto-complete and so much more. Of course, it is hard for non-modernized people to accept the full capability of AI because they believe humanity will be replaced or lead by machine learning. That was demonstrated when COIVD-19 hit and everyone had to adapt to a digital system to minimize human-encounter such as self check out online bookings, and contactless delivery (Domino's Pizza self-driving delivery car).\n",
    "\n",
    "AI became trending when self-driving cars were introduced, but safety for pedestrians and other vehicles was a concern. People's decision-making is influenced by their emotions and are based on context, but AI is designed to follow logic. People feared self-driving cars because it is unclear what the system will prioritize when it comes to safety if there is incident, the vehicle, property or people's life. People can easily adapt and respond to incidents because our consciousness is wired flight or fight response, but the same can't be said about AI.   \n",
    "\n",
    "Instead of focusing on the limitations of AI, I wanted to explore its good side. There is so much more to AI and I want to understand how it is used to better our society. Technology has been a breakthrough for the safety and transportation industry because it has the capabilities to enhance and document errors that can be resolved. There are many opportunities for AI to be used for social good. I found the research and AI implementation for aircraft emergency systems done by NASA which I would be using for this project. \n"
   ]
  },
  {
   "cell_type": "markdown",
   "id": "42acb05c-6754-4e09-ab73-427e1e2e4ecd",
   "metadata": {},
   "source": [
    "## Data selected for analysis: What dataset do you plan to use, and why? "
   ]
  },
  {
   "cell_type": "markdown",
   "id": "a0c79b1c-7fc6-441e-9a58-ccc847d3581b",
   "metadata": {},
   "source": [
    "I plan on using the data I found on “Artificial Intelegence (AI) Flight Advisor” from data.gov website. The dataset represents how many historic aircraft accidents could have been avoidable if the pilot had a better diagnosis of the aircraft fault state and knowledge of the best corrective actions. This research effort is working toward developing the capability to diagnose the fault state and provide the best corrective action. The link to the dataset is https://catalog.data.gov/dataset/artificial-intelligence-ai-flight-advisor. The data is available for the public and could be used for research and educational purposes. The dataset I chose is suitable for addressing the research question above because it has different technologies that are determined to meet the definition of surveillance by the city of Seattle Ordinance and their use. Possible ethical considerations to using this dataset could be altering the data to use it for personal reasons. \n"
   ]
  },
  {
   "cell_type": "markdown",
   "id": "33f72518-3bfa-452e-aac6-7ad0e704dd45",
   "metadata": {},
   "source": [
    "## Unknowns and dependencies:"
   ]
  },
  {
   "cell_type": "markdown",
   "id": "0275155d-741b-45a5-aa51-a72b17075d28",
   "metadata": {},
   "source": [
    "I might need more information and data than the dataset above as well as not having an uptodate dataset. If I am not able to find enough dataset, I might have to switch my research question.\n"
   ]
  },
  {
   "cell_type": "markdown",
   "id": "2d8b67bf-f17f-411b-9acd-9cdfe0ef4728",
   "metadata": {},
   "source": [
    "## Research questions (or hypotheses):"
   ]
  },
  {
   "cell_type": "markdown",
   "id": "98f41ba2-21e1-4323-a2cc-ce119d57fc6f",
   "metadata": {},
   "source": [
    "What are the current and future use of AI in the safety industry for autonomous vehicles? "
   ]
  },
  {
   "cell_type": "markdown",
   "id": "dab23cb3-5e81-4b1f-8076-46ee05fcb401",
   "metadata": {},
   "source": [
    "## Background and/or Related Work:"
   ]
  },
  {
   "cell_type": "markdown",
   "id": "7b2ecab1-4874-4803-848b-1442836d15a0",
   "metadata": {},
   "source": [
    "A mix of big tech, worldwide automakers, and aviation industries are working hard to create safe and deterministic artificial intelligence (AI) using machine learning (ML) that will make autonomous vehicles a reality. The aviation industry is the front-runner of autonomous vehicles. It has long beat the automotive sector in the race of autonomy. People feel comfortable with the implication of self-driving vehicles when they grow fond of the concept of autonomy.\n",
    "\n",
    "The self-flying planes are already on use with the help of flight plan created by pilots. But, they can’t act beyond that. For example, if a pilot takes off the seat-belt sign, there are chances that the flight is being self-driven. With these technologies proven safe, the concept of the autonomous vehicle feels guarded and feasible for use. A report suggests that the autonomous aircraft market is projected to increase from an estimated US $ 3.6 billion in 2018 to US $ 23.7 billion by 2030 at growth rate of 17.06%. The privious research or background information provides me with more informattion that would help form my decisions on this study."
   ]
  },
  {
   "cell_type": "markdown",
   "id": "1f8e8149-ceb8-4eab-8a56-1fe8db33ed48",
   "metadata": {},
   "source": [
    "## Methodology"
   ]
  },
  {
   "cell_type": "markdown",
   "id": "fa025399-acdb-497e-89be-a599b7ebf087",
   "metadata": {},
   "source": [
    "In order to answer my research question, I would be comparing multiple datasets/researches and investigate the results. I plan on presenting my findings in a table or bargraph. I think my findings would contain a lot of numbers and descriptions which a table or a bargraph would be a better option to present it with. "
   ]
  },
  {
   "cell_type": "code",
   "execution_count": null,
   "id": "4d76c55e-c110-4299-a073-fd743adf3e74",
   "metadata": {},
   "outputs": [],
   "source": []
  }
 ],
 "metadata": {
  "kernelspec": {
   "display_name": "Python 3",
   "language": "python",
   "name": "python3"
  },
  "language_info": {
   "codemirror_mode": {
    "name": "ipython",
    "version": 3
   },
   "file_extension": ".py",
   "mimetype": "text/x-python",
   "name": "python",
   "nbconvert_exporter": "python",
   "pygments_lexer": "ipython3",
   "version": "3.8.8"
  }
 },
 "nbformat": 4,
 "nbformat_minor": 5
}
